{
 "cells": [
  {
   "cell_type": "markdown",
   "metadata": {},
   "source": [
    "# Google NoSQL Lab\n",
    "\n",
    "# STOP : Current Brokeness on metal SSL library"
   ]
  },
  {
   "cell_type": "markdown",
   "metadata": {},
   "source": [
    "## Step 1: Setup and Test\n",
    "https://cloud.google.com/datastore/docs/quickstart\n",
    "  * **STOP** before the Clean Up step.\n"
   ]
  },
  {
   "cell_type": "markdown",
   "metadata": {},
   "source": [
    "## Step 2: Use Google Cloud SDK Python API\n",
    " * https://cloud.google.com/datastore/docs/datastore-api-tutorial\n",
    "   * The below cells are using the Python version!"
   ]
  },
  {
   "cell_type": "code",
   "execution_count": null,
   "metadata": {
    "collapsed": true
   },
   "outputs": [],
   "source": [
    "import json\n",
    "\n",
    "import googleapiclient.discovery"
   ]
  },
  {
   "cell_type": "code",
   "execution_count": null,
   "metadata": {
    "collapsed": true
   },
   "outputs": [],
   "source": [
    "from google.cloud import datastore\n",
    "\n",
    "\n",
    "def create_client(project_id):\n",
    "    return datastore.Client(project_id)"
   ]
  },
  {
   "cell_type": "code",
   "execution_count": null,
   "metadata": {
    "collapsed": true
   },
   "outputs": [],
   "source": [
    "def add_task(client, description):\n",
    "    key = client.key('Task')\n",
    "\n",
    "    task = datastore.Entity(\n",
    "        key, exclude_from_indexes=['description'])\n",
    "\n",
    "    task.update({\n",
    "        'created': datetime.datetime.utcnow(),\n",
    "        'description': description,\n",
    "        'done': False\n",
    "    })\n",
    "\n",
    "    client.put(task)\n",
    "\n",
    "    return task.key"
   ]
  },
  {
   "cell_type": "code",
   "execution_count": null,
   "metadata": {
    "collapsed": true
   },
   "outputs": [],
   "source": [
    "def mark_done(client, task_id):\n",
    "    with client.transaction():\n",
    "        key = client.key('Task', task_id)\n",
    "        task = client.get(key)\n",
    "\n",
    "        if not task:\n",
    "            raise ValueError(\n",
    "                'Task {} does not exist.'.format(task_id))\n",
    "\n",
    "        task['done'] = True\n",
    "\n",
    "        client.put(task)"
   ]
  },
  {
   "cell_type": "code",
   "execution_count": null,
   "metadata": {
    "collapsed": true
   },
   "outputs": [],
   "source": [
    "def delete_task(client, task_id):\n",
    "    key = client.key('Task', task_id)\n",
    "    client.delete(key)"
   ]
  },
  {
   "cell_type": "code",
   "execution_count": null,
   "metadata": {
    "collapsed": true
   },
   "outputs": [],
   "source": [
    "def list_tasks(client):\n",
    "    query = client.query(kind='Task')\n",
    "    query.order = ['created']\n",
    "\n",
    "    return list(query.fetch())"
   ]
  },
  {
   "cell_type": "code",
   "execution_count": null,
   "metadata": {
    "collapsed": true
   },
   "outputs": [],
   "source": [
    "import os\n",
    "# Update the next line!  Requires you uploaded the JSON file for Service Account Auth\n",
    "MY_PAWPRINT = 'scottgs'\n",
    "KEY_FILE = 'MU DSA-bfecc7300944.json'\n",
    "# /dsa/home/scottgs/.config/gcloud/application_default_credentials.json\n",
    "os.environ[\"GOOGLE_APPLICATION_CREDENTIALS\"] = \"/dsa/home/\" + MY_PAWPRINT + \"/.config/gcloud/application_default_credentials.json\"\n"
   ]
  },
  {
   "cell_type": "code",
   "execution_count": null,
   "metadata": {},
   "outputs": [],
   "source": [
    "print(os.environ[\"GOOGLE_APPLICATION_CREDENTIALS\"])"
   ]
  },
  {
   "cell_type": "code",
   "execution_count": null,
   "metadata": {},
   "outputs": [],
   "source": [
    "import requests\n",
    "requests.get('https://google.com/')"
   ]
  },
  {
   "cell_type": "code",
   "execution_count": null,
   "metadata": {
    "scrolled": false
   },
   "outputs": [],
   "source": [
    "project_id = 'mu-dsa'\n",
    "gcp_client = create_client(project_id)\n",
    "results = list_tasks(gcp_client)"
   ]
  },
  {
   "cell_type": "code",
   "execution_count": null,
   "metadata": {},
   "outputs": [],
   "source": [
    "for r in results:\n",
    "    print(r)"
   ]
  },
  {
   "cell_type": "markdown",
   "metadata": {},
   "source": [
    "# Complete the Clean Up step to remove your NoSQL resource"
   ]
  }
 ],
 "metadata": {
  "kernelspec": {
   "display_name": "Python 3",
   "language": "python",
   "name": "python3"
  },
  "language_info": {
   "codemirror_mode": {
    "name": "ipython",
    "version": 3
   },
   "file_extension": ".py",
   "mimetype": "text/x-python",
   "name": "python",
   "nbconvert_exporter": "python",
   "pygments_lexer": "ipython3",
   "version": "3.4.5"
  }
 },
 "nbformat": 4,
 "nbformat_minor": 2
}
