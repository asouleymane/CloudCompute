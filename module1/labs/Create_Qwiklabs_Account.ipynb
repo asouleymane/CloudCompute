{
 "cells": [
  {
   "cell_type": "markdown",
   "metadata": {
    "collapsed": true
   },
   "source": [
    "# AWS Educate Starter Account Creation\n",
    "\n",
    "\n",
    "<br>\n",
    "\n",
    "This lab will walk you through steps to create AWS Educate Starter account. Below image tells us what AWS educate offers. We will go with AWS Educate Starter account since it doesn't require us to provide credit card information.\n",
    "\n",
    "\n",
    "\n",
    "<img src=\"../images/AWS_Educate_details.png\">\n",
    "\n",
    "\n",
    "\n"
   ]
  },
  {
   "cell_type": "markdown",
   "metadata": {},
   "source": [
    "Go to https://qwiklabs.com/users/sign_up?locale=en and enter your details. You can either enter mizzou email address or personal email.\n",
    "\n",
    "\n",
    "<img src=\"../images/Qwiklabs/Enter_details.png\">"
   ]
  },
  {
   "cell_type": "markdown",
   "metadata": {},
   "source": [
    "<br>\n",
    "<br>\n",
    "You should recieve an email from Qwiklabs for verification. Once you click on the verification link you will be taken to the dashboard. \n",
    "\n",
    "\n",
    "<img src=\"../images/Qwiklabs/dashboard.PNG\">\n",
    "\n",
    "<br>\n",
    "<br>\n",
    "\n",
    "Click on the three lines at top left corner and go to catalog. \n",
    "\n",
    "<img src=\"../images/Qwiklabs/catalog.PNG\">\n",
    "\n",
    "<br>"
   ]
  },
  {
   "cell_type": "markdown",
   "metadata": {},
   "source": [
    "<br>\n",
    "<br>\n",
    "\n",
    "In the catalog, Filter AWS labs and click on labs tab. There are few free labs available which will let you access AWS services. Click on the challenge lab as shown.\n",
    "\n",
    "\n",
    "<img src=\"../images/Qwiklabs/aws_labs.PNG\">"
   ]
  },
  {
   "cell_type": "markdown",
   "metadata": {},
   "source": [
    "<br>\n",
    "<br>\n",
    "\n",
    "\n",
    "Once the lab is open, click on open console to open AWS web console. The credentials are present on the page as highlighted on the image below.\n",
    "<br>\n",
    "\n",
    "<img src=\"../images/Qwiklabs/challenge_lab.PNG\">"
   ]
  },
  {
   "cell_type": "markdown",
   "metadata": {},
   "source": [
    "<br>\n",
    "<br>\n",
    "\n",
    "Signin to AWS and you are ready to play with AWS services. This is the end of this lab. [Click here](QuickLabWebServer.ipynb) to open QuickLabs WebServer lab to launch a webserver.  \n",
    "\n",
    "\n",
    "<img src=\"../images/Qwiklabs/aws_signin.PNG\">"
   ]
  }
 ],
 "metadata": {
  "kernelspec": {
   "display_name": "Python 3",
   "language": "python",
   "name": "python3"
  },
  "language_info": {
   "codemirror_mode": {
    "name": "ipython",
    "version": 3
   },
   "file_extension": ".py",
   "mimetype": "text/x-python",
   "name": "python",
   "nbconvert_exporter": "python",
   "pygments_lexer": "ipython3",
   "version": "3.4.5"
  }
 },
 "nbformat": 4,
 "nbformat_minor": 2
}
