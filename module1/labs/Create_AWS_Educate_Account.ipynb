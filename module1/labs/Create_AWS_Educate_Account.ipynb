{
 "cells": [
  {
   "cell_type": "markdown",
   "metadata": {},
   "source": [
    "# AWS Educate Account\n",
    "\n",
    "In the first week of the course, get familiarize with AWS web console and services available. Week 1 focusses on creating an AWS educate account and self exploration of services available. The readings should help you get familiar with basic cloud concepts and keyworks that you will come across in coming modules. Following are some of the references to help you get familiar with AWS. \n",
    "\n",
    "- [Overview of AWS](http://media.amazonwebservices.com/AWS_Overview.pdf)\n",
    "- [A Rare Peek Into The Massive Scale of AWS](http://www.enterprisetech.com/2014/11/14/rare-peek-massive-scale-aws/)\n",
    "- [Complete AWS Documentation](http://aws.amazon.com/documentation/)\n",
    "\n",
    "\n",
    "\n",
    "- AWS Free Usage for Education:\n",
    "\n",
    "    * [Services available on the free usage tier](http://aws.amazon.com/free/)\n",
    "    * [Getting Started Resource Center to make the most out of free tier usage](http://docs.aws.amazon.com/gettingstarted/latest/awsgsg-freetier/TestDriveFreeTier-monthly.html)\n",
    "  \n",
    "    * [AWS educational resources (AWS credit, training, learning resources)](https://aws.amazon.com/education/awseducate/)"
   ]
  },
  {
   "cell_type": "markdown",
   "metadata": {},
   "source": [
    "This lab aims at making you familiar with AWS pricing and documentation for different services that are available with ‘AWS free usage tier’. It walks you through the process of creating your ‘AWS account’ and get $100 AWS educate student credit. We will launch an AWS EC2 (Elastic Compute Cloud) instance and finally set up AWS CloudWatch to add a Bill alarm for monitoring and managing the credit.\n",
    "\n",
    "\n",
    "# Note:\n",
    "Your account will be locked temporariliy if the credit usage exceeds acceptable limit. CloudWatch helps you to always keep a check on the usage levels."
   ]
  },
  {
   "cell_type": "markdown",
   "metadata": {},
   "source": [
    "### Amazon Web Services\n",
    "\n",
    "Read through above links and understand the conditions of usage, restrictions in terms of instance types, pay-as-you-go service rates, different operating systems. \n",
    "\n",
    "\n",
    "AWS offers most of its services through free tier usage. Following are the featured services.\n",
    "\n",
    "\n",
    "<img src=\"../images/AWS_acc_creation/free_tier_services.PNG\">\n",
    "\n",
    "\n",
    "More information on other services can be found on [here](http://aws.amazon.com/free/.)\n",
    "\n"
   ]
  },
  {
   "cell_type": "markdown",
   "metadata": {},
   "source": [
    "## AWS Educate Account Creation\n",
    "\n",
    "Create an (AWS) Amazon Web Service account in [http://aws.amazon.com](http://aws.amazon.com) by clicking the button ‘Create a Free Account’ and follow the instructions. A credit/debit card and a cellphone/Landline number is required to do this. \n",
    "\n",
    "\n",
    "Make sure to enter the mizzou email address to take advantage of $100 educational credit.\n",
    "Use original email address, for example: skaf48@mail.missouri.edu\n",
    "You might have customized your email addresses something like \"saikrishna@mizzou.edu\", but amazon won’t accept any email domain other than **mail.missouri.edu**. Your email domain should match institution's domain which is mail.missouri.edu\n",
    "\n",
    "\n",
    "<img src=\"../images/AWS_acc_creation/signup.png\">\n",
    "\n",
    "----\n",
    "\n",
    "\n",
    "#### Choose personal account and enter details\n",
    "\n",
    "\n",
    "<img src=\"../images/AWS_acc_creation/details.png\">\n",
    "\n",
    "----\n",
    "\n",
    "#### Enter your card details\n",
    "\n",
    "\n",
    "<img src=\"../images/AWS_acc_creation/CC_details.png\">\n",
    "\n",
    "\n",
    "-----\n",
    "\n",
    "\n",
    "#### Don’t forget to select ‘Basic’ Support plan to access AWS free services\n",
    "\n",
    "\n",
    "<img src=\"../images/AWS_acc_creation/select_plan.png\">\n",
    "\n",
    "\n",
    "-----\n",
    "\n",
    "\n",
    "#### Click on your name at top right corner and go to My account. Copy the account id as we will be using next.\n",
    "\n",
    "\n",
    "<img src=\"../images/AWS_acc_creation/get_acc_id.png\">"
   ]
  },
  {
   "cell_type": "markdown",
   "metadata": {},
   "source": [
    "Once you create your account you will see all AWS services available for you. Request for AWS Education Credit. Go to [https://aws.amazon.com/education/awseducate/apply/](https://aws.amazon.com/education/awseducate/apply/) and click on ‘Apply for AWS Educate for students’ link.\n",
    "\n",
    "\n",
    "<img src=\"../images/AWS_acc_creation/select_aws_educate.png\">"
   ]
  },
  {
   "cell_type": "markdown",
   "metadata": {},
   "source": [
    "----\n",
    "\n",
    "* Enter details regarding school and graduation. Since we don’t have a promo code yet, we will skip. Click on next. Enter the account id you copied before.\n",
    "\n",
    "\n",
    "<img src=\"../images/AWS_acc_creation/signup_aws_educate.png\">"
   ]
  },
  {
   "cell_type": "markdown",
   "metadata": {},
   "source": [
    "----\n",
    "\n",
    "* Scroll to the bottom of user agreement and accept it. \n",
    "\n",
    "\n",
    "<img src=\"../images/AWS_acc_creation/agree_terms.png\">"
   ]
  },
  {
   "cell_type": "markdown",
   "metadata": {},
   "source": [
    "----\n",
    "\n",
    "* You should see confirmation message on screen.\n",
    "\n",
    "\n",
    "\n",
    "<img src=\"../images/AWS_acc_creation/confirmation.png\">\n",
    "\n",
    "\n",
    "----\n",
    "\n",
    "* Once you received an email from AWS with the Promo Code, go to [https://console.aws.amazon.com/billing/home](https://console.aws.amazon.com/billing/home). Click on credits tab on the left and activate the promo code by entering it.\n",
    "\n",
    "\n",
    "\n",
    "<img src=\"../images/AWS_acc_creation/enter_promo_code.png\">\n"
   ]
  },
  {
   "cell_type": "markdown",
   "metadata": {},
   "source": [
    "-----\n",
    "\n",
    "* You will be able to see your detailed usage and Credits Balance by accessing ‘Bills’ option in the left menu. \n",
    "\n",
    "\n",
    "* Click on preferences tab on the left and enable ‘Receive PDF Invoice my Email’ as well ‘Receive Billing Alerts’ to keep track of the usage. \n",
    "\n",
    "\n",
    "\n",
    "<img src=\"../images/AWS_acc_creation/billing_alerts.png\">"
   ]
  }
 ],
 "metadata": {
  "kernelspec": {
   "display_name": "Python 3",
   "language": "python",
   "name": "python3"
  },
  "language_info": {
   "codemirror_mode": {
    "name": "ipython",
    "version": 3
   },
   "file_extension": ".py",
   "mimetype": "text/x-python",
   "name": "python",
   "nbconvert_exporter": "python",
   "pygments_lexer": "ipython3",
   "version": "3.4.5"
  }
 },
 "nbformat": 4,
 "nbformat_minor": 2
}
