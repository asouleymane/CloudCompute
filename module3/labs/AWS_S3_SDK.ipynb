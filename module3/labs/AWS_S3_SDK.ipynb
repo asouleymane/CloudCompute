{
 "cells": [
  {
   "cell_type": "markdown",
   "metadata": {},
   "source": [
    "# Amazon S3\n",
    "\n",
    "\n",
    "Amazon S3 (Simple Storage Service) is a web service through which AWS offers storage service. Amazon claims, S3 uses the same scalable storage infrastructure that Amazon.com uses to run its own global e-commerce network. Amazon S3 is a scalable, high-speed, low-cost, web-based cloud storage service designed for online backup and archiving of data and application programs. It is designed with a minimal feature set and created to make web-scale computing easier for developers. \n",
    "\n",
    "Its an object storage service, which differs from block and file cloud storage. Each object is stored as a file with its metadata included and given an ID number. Applications use this ID number to access an object. Unlike file and block cloud storage, a developer can access an object via a rest API. S3 enables users to upload, store and download practically any file or object that is up to five terabytes(5 TB) in size.\n",
    "\n",
    "Amazon S3 comes in two storage classes: S3 Standard and S3 Infrequent Access. S3 Standard is suitable for frequently accessed data that needs to be delivered with low latency and high throughput. S3 Standard targets applications, dynamic websites, content distribution and big data workloads. S3 Infrequent Access offers a lower storage price for backups and long-term data storage.\n",
    "\n",
    "### Bucket Restrictions and Limitations\n",
    "\n",
    "From AWS documentation:<br>\n",
    "A bucket is owned by the AWS account that created it. By default, you can create up to 100 buckets in each of your AWS accounts. If you need additional buckets, you can increase your bucket limit by submitting a service limit increase. For information about how to increase your bucket limit, see AWS Service Limits in the AWS General Reference.\n",
    "\n",
    "Bucket ownership is not transferable; however, if a bucket is empty, you can delete it. After a bucket is deleted, the name becomes available to reuse, but the name might not be available for you to reuse for various reasons. For example, some other account could create a bucket with that name. Note, too, that it might take some time before the name can be reused. So if you want to use the same bucket name, don't delete the bucket.\n",
    "\n",
    "There is no limit to the number of objects that can be stored in a bucket and no difference in performance whether you use many buckets or just a few. You can store all of your objects in a single bucket, or you can organize them across several buckets. You cannot create a bucket within another bucket.\n",
    "\n",
    "The high-availability engineering of Amazon S3 is focused on get, put, list, and delete operations. Because bucket operations work against a centralized, global resource space, it is not appropriate to create or delete buckets on the high-availability code path of your application. It is better to create or delete buckets in a separate initialization or setup routine that you run less often.\n",
    "\n",
    "#### Note\n",
    "All bucket names should comply with DNS naming conventions. These conventions are enforced in all Regions except for the US East (N. Virginia) Region. The rules for DNS-compliant bucket names are:\n",
    "\n",
    "* Bucket names must be at least 3 and no more than 63 characters long.\n",
    "* Bucket names must be a series of one or more labels. Adjacent labels are separated by a single period (.). Bucket names can contain lowercase letters, numbers, and hyphens. Each label must start and end with a lowercase letter or a number.\n",
    "* Bucket names must not be formatted as an IP address (e.g., 192.168.5.4).\n",
    "* When using virtual hosted–style buckets with SSL, the SSL wildcard certificate only matches buckets that do not contain periods. To work around this, use HTTP or write your own certificate verification logic. We recommend that you do not use periods (\".\") in bucket names.\n",
    "\n",
    "\n",
    "\n",
    "Read more about AWS S3 [here](https://aws.amazon.com/s3/)\n",
    "\n",
    "[Deep Dive](http://docs.aws.amazon.com/AmazonS3/latest/dev/Welcome.html)\n"
   ]
  },
  {
   "cell_type": "markdown",
   "metadata": {},
   "source": [
    "### Client vs Resource\n",
    "\n",
    "You can access S3 either using a clinet object or as a resource. The documentation says little about the difference between a clinet and resource. Each service module(like S3, EC2, SQS etc) has a Client class that provides a 1-to-1 mapping of the service API. Each service module also has a Resource class that provides an object-oriented interface to work with. \n",
    "\n",
    "Each resource object wraps a service client. \n",
    "\n",
    "    s3 = Aws::S3::Resource.new\n",
    "    s3.client\n",
    "    #=> #<Aws::S3::Client>\n",
    "\n",
    "\n",
    "Given a service resource object you can start exploring related resources without making API calls. If you know the name of a bucket, you can construct a bucket resource without making an API request. \n",
    "\n",
    "    bucket = s3.bucket('aws-sdk')\n",
    "    \n",
    "In above example, an instance of Aws::S3::Bucket is returned. This is a lightweight reference to an actual bucket that might exist in Amazon S3. When you reference a resource, no API calls are made until you operate on the resource.\n",
    "\n",
    "Following code will use the bucket reference to delete the bucket.\n",
    "\n",
    "    bucket.delete\n",
    "    \n",
    "\n",
    "You can use a resource to reference other resources. In the next example, I use the bucket object to reference an object in the bucket by its key.\n",
    "\n",
    "Again, no API calls are made until I invoke an operation such as #put or #delete.\n",
    "\n",
    "    obj = bucket.object('hello.txt')\n",
    "    obj.put(body:'Hello World!')\n",
    "    obj.delete\n",
    "    \n",
    "The **`resource`** interface is relatively new compared to client. It has a lot of unfinished features. It doesn't cover all services a client object provides. "
   ]
  },
  {
   "cell_type": "markdown",
   "metadata": {},
   "source": [
    "### Create S3 resource object. \n",
    "\n",
    "Boto 3 has both low-level clients and higher-level resources. In this notebook we will use, resource interface to use S3 service. \n"
   ]
  },
  {
   "cell_type": "code",
   "execution_count": 35,
   "metadata": {
    "collapsed": true
   },
   "outputs": [],
   "source": [
    "import boto3\n",
    "import os\n",
    "import time\n",
    "import getpass\n",
    "\n",
    "system_user_name=getpass.getuser()\n",
    "\n",
    "s3 = boto3.resource('s3')"
   ]
  },
  {
   "cell_type": "markdown",
   "metadata": {},
   "source": [
    "### Creating a Bucket\n",
    "\n",
    "\n",
    "**Request Syntax**\n",
    "\n",
    "    bucket = s3.create_bucket(\n",
    "        ACL='private'|'public-read'|'public-read-write'|'authenticated-read',\n",
    "        Bucket='string',\n",
    "        CreateBucketConfiguration={\n",
    "            'LocationConstraint': 'EU'|'eu-west-1'|'us-west-1'|'us-west-2'|'ap-south-1'|'ap-southeast-1'|'ap-southeast-2'|'ap-northeast-1'|'sa-east-1'|'cn-north-1'|'eu-central-1'\n",
    "        },\n",
    "        GrantFullControl='string',\n",
    "        GrantRead='string',\n",
    "        GrantReadACP='string',\n",
    "        GrantWrite='string',\n",
    "        GrantWriteACP='string'\n",
    "    )"
   ]
  },
  {
   "cell_type": "code",
   "execution_count": 36,
   "metadata": {
    "collapsed": true
   },
   "outputs": [],
   "source": [
    "bucket_name=time.strftime(\"s3.%d%m%Y%H%M%S.\"+system_user_name)"
   ]
  },
  {
   "cell_type": "code",
   "execution_count": 37,
   "metadata": {},
   "outputs": [
    {
     "data": {
      "text/plain": [
       "s3.Bucket(name='s3.29102017163354.skaf48')"
      ]
     },
     "execution_count": 37,
     "metadata": {},
     "output_type": "execute_result"
    }
   ],
   "source": [
    "# Boto 3\n",
    "s3.create_bucket(Bucket=bucket_name)"
   ]
  },
  {
   "cell_type": "markdown",
   "metadata": {},
   "source": [
    "### Storing Data\n",
    "\n",
    "You can store data from a file, stream, or string."
   ]
  },
  {
   "cell_type": "code",
   "execution_count": 38,
   "metadata": {},
   "outputs": [
    {
     "data": {
      "text/plain": [
       "{'ETag': '\"cc27e90f51eab831d523f545dcd438a9\"',\n",
       " 'ResponseMetadata': {'HTTPHeaders': {'content-length': '0',\n",
       "   'date': 'Sun, 29 Oct 2017 21:33:57 GMT',\n",
       "   'etag': '\"cc27e90f51eab831d523f545dcd438a9\"',\n",
       "   'server': 'AmazonS3',\n",
       "   'x-amz-id-2': 'Bdfm8SLhl2xDHWddi6x8/a7inbIp218tqXNCV/N61+WmD/2W/APkhdwZrDnaJAZgNXESMDRdnB4=',\n",
       "   'x-amz-request-id': '35BFD0FA2F5A5780'},\n",
       "  'HTTPStatusCode': 200,\n",
       "  'HostId': 'Bdfm8SLhl2xDHWddi6x8/a7inbIp218tqXNCV/N61+WmD/2W/APkhdwZrDnaJAZgNXESMDRdnB4=',\n",
       "  'RequestId': '35BFD0FA2F5A5780',\n",
       "  'RetryAttempts': 0}}"
      ]
     },
     "execution_count": 38,
     "metadata": {},
     "output_type": "execute_result"
    }
   ],
   "source": [
    "# Boto 3\n",
    "s3.Object(bucket_name, 'hello.txt').put(Body=open('hello.txt', 'rb'))"
   ]
  },
  {
   "cell_type": "markdown",
   "metadata": {},
   "source": [
    "### Accessing a Bucket\n",
    "\n",
    "You can easily access a bucket with Boto 3's resources but they cannot check automatically whether a bucket exists."
   ]
  },
  {
   "cell_type": "code",
   "execution_count": 39,
   "metadata": {
    "collapsed": true
   },
   "outputs": [],
   "source": [
    "import botocore\n",
    "bucket = s3.Bucket(bucket_name)\n",
    "exists = True\n",
    "try:\n",
    "    s3.meta.client.head_bucket(Bucket=bucket_name)\n",
    "except botocore.exceptions.ClientError as e:\n",
    "    # If the client error is a 404 error, then the bucket does not exist.\n",
    "    error_code = int(e.response['Error']['Code'])\n",
    "    if error_code == 404:\n",
    "        exists = False"
   ]
  },
  {
   "cell_type": "markdown",
   "metadata": {},
   "source": [
    "### Uploading files to S3 Bucket\n",
    "\n",
    "Its easy to upload a file to AWS S3. This is similar to above where we stored hello.txt file in S3 bucket. The syntax is different as in we can specify the name of the file in S3 as we want. Here same file is uploaded to S3 without name change."
   ]
  },
  {
   "cell_type": "code",
   "execution_count": 40,
   "metadata": {},
   "outputs": [
    {
     "data": {
      "text/plain": [
       "s3.Object(bucket_name='s3.29102017163354.skaf48', key='expression-attributes.json')"
      ]
     },
     "execution_count": 40,
     "metadata": {},
     "output_type": "execute_result"
    }
   ],
   "source": [
    "filename = 'expression-attributes.json'\n",
    "\n",
    "# Uploads the given file using a managed uploader, which will split up large\n",
    "# files automatically and upload parts in parallel.\n",
    "s3.Bucket(bucket_name).Object(filename)"
   ]
  },
  {
   "cell_type": "markdown",
   "metadata": {},
   "source": [
    "### List all the buckets created under a User's AWS account."
   ]
  },
  {
   "cell_type": "code",
   "execution_count": 41,
   "metadata": {},
   "outputs": [
    {
     "name": "stdout",
     "output_type": "stream",
     "text": [
      "Bucket List: ['aws-logs-714861692883-us-east-1', 'aws-logs-714861692883-us-west-2', 'dsa-mizzou', 'dsabucket1', 'dsabucket2', 'dsabucket3', 'dsatwilio', 'hardata', 's3.29102017163354.skaf48', 'skaf48bucket00', 'skaf48bucket50']\n"
     ]
    }
   ],
   "source": [
    "# Create an S3 client\n",
    "s3 = boto3.client('s3')\n",
    "\n",
    "# Call S3 to list current buckets\n",
    "response = s3.list_buckets()\n",
    "\n",
    "# Get a list of all bucket names from the response\n",
    "buckets = [bucket['Name'] for bucket in response['Buckets']]\n",
    "\n",
    "# Print out the bucket list\n",
    "print(\"Bucket List: %s\" % buckets)"
   ]
  },
  {
   "cell_type": "markdown",
   "metadata": {},
   "source": [
    "### Access Controls\n",
    "\n",
    "Getting and setting canned access control values in Boto 3 operates on an ACL resource object. \n",
    "\n",
    "Amazon S3 Access Control Lists (ACLs) enable you to manage access to buckets and objects. Each bucket and object has an ACL attached to it as a subresource. It defines which AWS accounts or groups are granted access and the type of access. When a request is received against a resource, Amazon S3 checks the corresponding ACL to verify the requester has the necessary access permissions.\n",
    "\n",
    "#### Options\n",
    "--acl (string) The canned ACL to apply to the bucket.\n",
    "\n",
    "Possible values:\n",
    "\n",
    "* private\n",
    "* public-read\n",
    "* public-read-write\n",
    "* authenticated-read\n"
   ]
  },
  {
   "cell_type": "code",
   "execution_count": 42,
   "metadata": {},
   "outputs": [
    {
     "data": {
      "text/plain": [
       "{'ResponseMetadata': {'HTTPHeaders': {'content-length': '0',\n",
       "   'date': 'Sun, 29 Oct 2017 21:33:58 GMT',\n",
       "   'server': 'AmazonS3',\n",
       "   'x-amz-id-2': 'd4QFGQ+/5eb8TfWEfHv1NIIaQnwM6H7cWYTlkiJqrt4+3lBsCKdhoZiUV946Ia+ao10Vn/Yv6Mw=',\n",
       "   'x-amz-request-id': 'ECFFDABEBB283184'},\n",
       "  'HTTPStatusCode': 200,\n",
       "  'HostId': 'd4QFGQ+/5eb8TfWEfHv1NIIaQnwM6H7cWYTlkiJqrt4+3lBsCKdhoZiUV946Ia+ao10Vn/Yv6Mw=',\n",
       "  'RequestId': 'ECFFDABEBB283184',\n",
       "  'RetryAttempts': 0}}"
      ]
     },
     "execution_count": 42,
     "metadata": {},
     "output_type": "execute_result"
    }
   ],
   "source": [
    "# Boto 3\n",
    "bucket.Acl().put(ACL='public-read')"
   ]
  },
  {
   "cell_type": "markdown",
   "metadata": {},
   "source": [
    "### Downloading files from S3 Bucket\n",
    "\n",
    "Just like uploading its easy to download a file from AWS S3."
   ]
  },
  {
   "cell_type": "code",
   "execution_count": 43,
   "metadata": {
    "collapsed": true
   },
   "outputs": [],
   "source": [
    "import boto3\n",
    "import botocore\n",
    "\n",
    "KEY = 'hello.txt' # replace with your object key\n",
    "\n",
    "s3 = boto3.resource('s3')\n",
    "\n",
    "try:\n",
    "    s3.Bucket(bucket_name).download_file(KEY, 'download.txt')   # key has the file name to be downloaded, download.txt is the \n",
    "                                                                # name of downloaded file.\n",
    "except botocore.exceptions.ClientError as e:\n",
    "    if e.response['Error']['Code'] == \"404\":\n",
    "        print(\"The object does not exist.\")\n",
    "    else:\n",
    "        raise"
   ]
  },
  {
   "cell_type": "markdown",
   "metadata": {},
   "source": [
    "### Deleting a Bucket\n",
    "\n",
    "All of the keys in a bucket must be deleted before the bucket itself can be deleted."
   ]
  },
  {
   "cell_type": "code",
   "execution_count": 44,
   "metadata": {},
   "outputs": [
    {
     "data": {
      "text/plain": [
       "{'ResponseMetadata': {'HTTPHeaders': {'date': 'Sun, 29 Oct 2017 21:33:58 GMT',\n",
       "   'server': 'AmazonS3',\n",
       "   'x-amz-id-2': 'KWzIbvdvlYjaWyPJ4oEc+r9tSfCeFf5kPSdPyW5fyLb08xNzXe4HGEVE/8Gzm/ImEuJP3JiEa6E=',\n",
       "   'x-amz-request-id': '142C340486B5CA9B'},\n",
       "  'HTTPStatusCode': 204,\n",
       "  'HostId': 'KWzIbvdvlYjaWyPJ4oEc+r9tSfCeFf5kPSdPyW5fyLb08xNzXe4HGEVE/8Gzm/ImEuJP3JiEa6E=',\n",
       "  'RequestId': '142C340486B5CA9B',\n",
       "  'RetryAttempts': 0}}"
      ]
     },
     "execution_count": 44,
     "metadata": {},
     "output_type": "execute_result"
    }
   ],
   "source": [
    "# executing this cell will delete the bucket \"dsabucket3\"\n",
    "\n",
    "for key in bucket.objects.all():\n",
    "    key.delete()\n",
    "bucket.delete()"
   ]
  }
 ],
 "metadata": {
  "kernelspec": {
   "display_name": "Python 3",
   "language": "python",
   "name": "python3"
  },
  "language_info": {
   "codemirror_mode": {
    "name": "ipython",
    "version": 3
   },
   "file_extension": ".py",
   "mimetype": "text/x-python",
   "name": "python",
   "nbconvert_exporter": "python",
   "pygments_lexer": "ipython3",
   "version": "3.4.5"
  }
 },
 "nbformat": 4,
 "nbformat_minor": 2
}
