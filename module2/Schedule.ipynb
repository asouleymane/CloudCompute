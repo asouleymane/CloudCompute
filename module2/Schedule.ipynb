{
 "cells": [
  {
   "cell_type": "markdown",
   "metadata": {},
   "source": [
    "# Module 2 - Amazon Web Services, part 1"
   ]
  },
  {
   "cell_type": "markdown",
   "metadata": {},
   "source": [
    "## Module Topics\n",
    "\n",
    "* AWS Regions And Availability Zones\n",
    "* Accessing AWS via APIs, SDKs, CLI, and the Web Management\n",
    "* Containers\n",
    "* Network Latency"
   ]
  },
  {
   "cell_type": "markdown",
   "metadata": {},
   "source": [
    "## Readings\n",
    "\n",
    "  * [AWS Availability Regions](resources/AWS_Availability_Regions.ipynb)\n",
    " "
   ]
  },
  {
   "cell_type": "markdown",
   "metadata": {},
   "source": [
    "## Labs\n",
    "\n",
    "\n",
    "  * [Access S3](labs/Access_S3.ipynb)\n",
    "  * [Jupyter from Docker](labs/Jupyter_from_Docker.ipynb)\n",
    "  * [Launch Apache Server](labs/Launch_Apache_Server.ipynb)\n",
    "  * [Network Latency](labs/Network_Latency.ipynb)\n",
    "  \n",
    "## Extra Labs\n",
    "\n",
    "\n",
    "  * [Accessing AWS through CLI](labs/Accessing_AWS_through_CLI.ipynb)\n",
    "  * [Accessing EC2 with SDK](labs/Accessing_EC2_with_SDK.ipynb)\n",
    "  * [Accessing SQS SDK](labs/Accessing_SQS_SDK.ipynb)\n",
    "  * [AWS SSH Keypair](labs/AWS_SSH_Keypair.ipynb)"
   ]
  },
  {
   "cell_type": "markdown",
   "metadata": {},
   "source": [
    "## Exercises\n",
    "\n",
    "  * [Docker Exercises](exercises/Docker_Exercises.ipynb)"
   ]
  },
  {
   "cell_type": "markdown",
   "metadata": {},
   "source": [
    "## Submitting your work\n",
    "\n",
    "#### Steps:\n",
    "  1. Open Terminal in JupyterHub\n",
    "  1. Change into the course folder\n",
    "  1. Stage (Git Add) the module's practive and exercise work   \n",
    "  `git  add   module2/exercises`\n",
    "  1. Create your work snapshot (Git Commit)  \n",
    "  `git   commit   -m   \"Module 2 submission\"`\n",
    "  1. Upload the snapshot to the server (Git Push)  \n",
    "  `git   push`\n"
   ]
  },
  {
   "cell_type": "markdown",
   "metadata": {},
   "source": [
    "## Congratulations, you have completed the learning activities for this module!"
   ]
  }
 ],
 "metadata": {
  "kernelspec": {
   "display_name": "Python 3",
   "language": "python",
   "name": "python3"
  },
  "language_info": {
   "codemirror_mode": {
    "name": "ipython",
    "version": 3
   },
   "file_extension": ".py",
   "mimetype": "text/x-python",
   "name": "python",
   "nbconvert_exporter": "python",
   "pygments_lexer": "ipython3",
   "version": "3.4.5"
  }
 },
 "nbformat": 4,
 "nbformat_minor": 2
}
